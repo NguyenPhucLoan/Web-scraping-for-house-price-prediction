{
 "cells": [
  {
   "cell_type": "markdown",
   "id": "e4e3e087",
   "metadata": {},
   "source": [
    "# Xử lý dữ liệu"
   ]
  },
  {
   "cell_type": "code",
   "execution_count": 2,
   "id": "09113e1e",
   "metadata": {},
   "outputs": [
    {
     "name": "stdout",
     "output_type": "stream",
     "text": [
      "<class 'pandas.core.frame.DataFrame'>\n",
      "RangeIndex: 1160 entries, 0 to 1159\n",
      "Data columns (total 9 columns):\n",
      " #   Column      Non-Null Count  Dtype  \n",
      "---  ------      --------------  -----  \n",
      " 0   Unnamed: 0  1160 non-null   int64  \n",
      " 1   ID          1160 non-null   int64  \n",
      " 2   acreage     1160 non-null   float64\n",
      " 3   so_PN       1160 non-null   float64\n",
      " 4   so_WC       1160 non-null   float64\n",
      " 5   price       1160 non-null   float64\n",
      " 6   frontage    1160 non-null   int64  \n",
      " 7   area        1160 non-null   object \n",
      " 8   city        1160 non-null   object \n",
      "dtypes: float64(4), int64(3), object(2)\n",
      "memory usage: 81.7+ KB\n"
     ]
    }
   ],
   "source": [
    "import pandas as pd\n",
    "import numpy as np\n",
    "from sklearn.preprocessing import LabelEncoder\n",
    "\n",
    "df = pd.read_csv(\"house_final.csv\")\n",
    "df.info()"
   ]
  },
  {
   "cell_type": "code",
   "execution_count": 3,
   "id": "81496f3b",
   "metadata": {},
   "outputs": [],
   "source": [
    "# Gán lại giá trị int cho các dữ liệu object\n",
    "\n",
    "le = LabelEncoder()\n",
    "is_Category = df.dtypes == object\n",
    "category_column_list = df.columns[is_Category].tolist()\n",
    "df[category_column_list] = df[category_column_list].apply(lambda col: le.fit_transform(col))"
   ]
  },
  {
   "cell_type": "markdown",
   "id": "620f6dd4",
   "metadata": {},
   "source": [
    "# Training Models"
   ]
  },
  {
   "cell_type": "markdown",
   "id": "db90fea3",
   "metadata": {},
   "source": [
    "## Chia dữ liệu thành các tập train, test"
   ]
  },
  {
   "cell_type": "code",
   "execution_count": 4,
   "id": "01fcaf46",
   "metadata": {},
   "outputs": [],
   "source": [
    "from sklearn import datasets\n",
    "from sklearn.model_selection import train_test_split\n",
    "from sklearn.pipeline import make_pipeline\n",
    "from sklearn.ensemble import GradientBoostingRegressor\n",
    "from sklearn.decomposition import PCA\n",
    "from sklearn.metrics import mean_squared_error\n",
    "\n",
    "X = df.drop(columns='price')\n",
    "y = df['price']\n",
    "\n",
    "X_train, X_test, y_train, y_test = train_test_split(X, y, test_size = 0.2, random_state = 100)\n",
    "     "
   ]
  },
  {
   "cell_type": "markdown",
   "id": "d96c9e31",
   "metadata": {},
   "source": [
    "## Chuẩn hóa dữ liệu"
   ]
  },
  {
   "cell_type": "code",
   "execution_count": 5,
   "id": "2adedad2",
   "metadata": {},
   "outputs": [],
   "source": [
    "from sklearn.preprocessing import  StandardScaler\n",
    "\n",
    "sc=StandardScaler()\n",
    "sc.fit(X_train)\n",
    "X_train = sc.transform(X_train)\n",
    "X_test = sc.transform(X_test)"
   ]
  },
  {
   "cell_type": "code",
   "execution_count": 6,
   "id": "1a535447",
   "metadata": {},
   "outputs": [],
   "source": [
    "from sklearn.impute import SimpleImputer\n",
    "from sklearn.preprocessing import StandardScaler\n",
    "\n",
    "# Kiểm tra và xử lý giá trị NaN\n",
    "nan_imputer = SimpleImputer(missing_values=np.nan, strategy='mean')\n",
    "X = nan_imputer.fit_transform(X)\n",
    "\n",
    "# Kiểm tra và xử lý giá trị vô cùng\n",
    "X = np.nan_to_num(X, nan=0, posinf=np.finfo(np.float64).max, neginf=np.finfo(np.float64).min)\n",
    "\n",
    "# Chuẩn hóa dữ liệu\n",
    "scaler = StandardScaler()\n",
    "X = scaler.fit_transform(X)"
   ]
  },
  {
   "cell_type": "markdown",
   "id": "f7c69d72",
   "metadata": {},
   "source": [
    "## Linear Regression"
   ]
  },
  {
   "cell_type": "code",
   "execution_count": 7,
   "id": "f2e8b487",
   "metadata": {},
   "outputs": [
    {
     "data": {
      "text/plain": [
       "LinearRegression()"
      ]
     },
     "execution_count": 7,
     "metadata": {},
     "output_type": "execute_result"
    }
   ],
   "source": [
    "from sklearn.linear_model import LinearRegression\n",
    "lr = LinearRegression()\n",
    "lr.fit(X_train, y_train)"
   ]
  },
  {
   "cell_type": "code",
   "execution_count": 8,
   "id": "5e915b57",
   "metadata": {},
   "outputs": [],
   "source": [
    "### Dự đoán bằng cách áp model Linear Regression\n",
    "y_lr_train_pred = lr.predict(X_train)\n",
    "y_lr_test_pred = lr.predict(X_test)"
   ]
  },
  {
   "cell_type": "code",
   "execution_count": 9,
   "id": "90021c08",
   "metadata": {},
   "outputs": [],
   "source": [
    "from sklearn.metrics import mean_squared_error, mean_absolute_error, r2_score\n",
    "from math import sqrt"
   ]
  },
  {
   "cell_type": "markdown",
   "id": "22c48e57",
   "metadata": {},
   "source": [
    "#### MSE"
   ]
  },
  {
   "cell_type": "code",
   "execution_count": 10,
   "id": "0a29996e",
   "metadata": {},
   "outputs": [
    {
     "name": "stdout",
     "output_type": "stream",
     "text": [
      "LR MSE (Train):  1.7797093075450604e+18\n",
      "LR MSE (Test):  9.422914326976543e+17\n"
     ]
    }
   ],
   "source": [
    "lr_train_mse = mean_squared_error(y_train, y_lr_train_pred)\n",
    "lr_test_mse = mean_squared_error(y_test, y_lr_test_pred)\n",
    "print('LR MSE (Train): ', lr_train_mse)\n",
    "print('LR MSE (Test): ', lr_test_mse)"
   ]
  },
  {
   "cell_type": "markdown",
   "id": "426d6cdc",
   "metadata": {},
   "source": [
    "#### RMSE"
   ]
  },
  {
   "cell_type": "code",
   "execution_count": 11,
   "id": "b86811a7",
   "metadata": {},
   "outputs": [
    {
     "name": "stdout",
     "output_type": "stream",
     "text": [
      "LR RMSE (Train):  1334057460.361082\n",
      "LR RMSE (Test):  970716968.3783499\n"
     ]
    }
   ],
   "source": [
    "#rms = sqrt(mean_squared_error(y_actual, y_predicted))\n",
    "lr_train_rmse = sqrt(mean_squared_error(y_train, y_lr_train_pred))\n",
    "lr_test_rmse = sqrt(mean_squared_error(y_test, y_lr_test_pred))\n",
    "print('LR RMSE (Train): ', lr_train_rmse)\n",
    "print('LR RMSE (Test): ', lr_test_rmse)"
   ]
  },
  {
   "cell_type": "markdown",
   "id": "0978cc4d",
   "metadata": {},
   "source": [
    "#### MAE"
   ]
  },
  {
   "cell_type": "code",
   "execution_count": 18,
   "id": "e56a7400",
   "metadata": {},
   "outputs": [
    {
     "name": "stdout",
     "output_type": "stream",
     "text": [
      "LR MAE (Train):  358821573.1191792\n",
      "LR MAE (Test):  361225573.4932723\n"
     ]
    }
   ],
   "source": [
    "lr_train_mae = mean_absolute_error(y_train, y_lr_train_pred)\n",
    "lr_test_mae = mean_absolute_error(y_test, y_lr_test_pred)\n",
    "print('LR MAE (Train): ', lr_train_mae)\n",
    "print('LR MAE (Test): ', lr_test_mae)"
   ]
  },
  {
   "cell_type": "markdown",
   "id": "cdbf3a10",
   "metadata": {},
   "source": [
    "#### R2S"
   ]
  },
  {
   "cell_type": "code",
   "execution_count": 19,
   "id": "78dd36d7",
   "metadata": {},
   "outputs": [
    {
     "name": "stdout",
     "output_type": "stream",
     "text": [
      "LR R2S (Train):  0.045061818317309155\n",
      "LR R2S (Test):  -0.07151238569784346\n"
     ]
    }
   ],
   "source": [
    "lr_train_r2s = r2_score(y_train, y_lr_train_pred)\n",
    "lr_test_r2s = r2_score(y_test, y_lr_test_pred)\n",
    "print('LR R2S (Train): ', lr_train_r2s)\n",
    "print('LR R2S (Test): ', lr_test_r2s)"
   ]
  },
  {
   "cell_type": "code",
   "execution_count": 20,
   "id": "d2021a3a",
   "metadata": {},
   "outputs": [
    {
     "data": {
      "text/plain": [
       "Text(0.5, 0, 'thực tế')"
      ]
     },
     "execution_count": 20,
     "metadata": {},
     "output_type": "execute_result"
    },
    {
     "data": {
      "image/png": "[encoded data removed]",
      "text/plain": [
       "<Figure size 500x500 with 1 Axes>"
      ]
     },
     "metadata": {},
     "output_type": "display_data"
    }
   ],
   "source": [
    "import matplotlib.pyplot as plt\n",
    "from sklearn.model_selection import train_test_split\n",
    "\n",
    "plt.figure(figsize=(5,5))\n",
    "plt.scatter(x=y_train, y=y_lr_train_pred, c=\"purple\" ,alpha=0.3)\n",
    "\n",
    "z = np.polyfit(y_train, y_lr_train_pred, 1)\n",
    "p = np.poly1d(z)\n",
    "\n",
    "plt.plot(y_train, p(y_train), 'gold')\n",
    "plt.ylabel('dự đoán')\n",
    "plt.xlabel('thực tế')"
   ]
  },
  {
   "cell_type": "markdown",
   "id": "93f0e347",
   "metadata": {},
   "source": [
    "## Ridge Regression"
   ]
  },
  {
   "cell_type": "code",
   "execution_count": 21,
   "id": "afbbad30",
   "metadata": {},
   "outputs": [
    {
     "data": {
      "text/plain": [
       "Ridge()"
      ]
     },
     "execution_count": 21,
     "metadata": {},
     "output_type": "execute_result"
    }
   ],
   "source": [
    "from sklearn.linear_model import Ridge\n",
    "rr = Ridge()\n",
    "rr.fit(X_train, y_train)"
   ]
  },
  {
   "cell_type": "code",
   "execution_count": 22,
   "id": "8d8b79d5",
   "metadata": {},
   "outputs": [],
   "source": [
    "### Dự đoán bằng cách áp model Ridge Regression\n",
    "y_rr_train_pred = rr.predict(X_train)\n",
    "y_rr_test_pred = rr.predict(X_test)"
   ]
  },
  {
   "cell_type": "markdown",
   "id": "75fe1e7c",
   "metadata": {},
   "source": [
    "#### MSE"
   ]
  },
  {
   "cell_type": "code",
   "execution_count": 23,
   "id": "ed3dde79",
   "metadata": {},
   "outputs": [
    {
     "name": "stdout",
     "output_type": "stream",
     "text": [
      "RR MSE (Train):  1.780186302454173e+18\n",
      "RR MSE (Test):  9.378860960459638e+17\n"
     ]
    }
   ],
   "source": [
    "rr_train_mse = mean_squared_error(y_train, y_rr_train_pred)\n",
    "rr_test_mse = mean_squared_error(y_test, y_rr_test_pred)\n",
    "print('RR MSE (Train): ', rr_train_mse)\n",
    "print('RR MSE (Test): ', rr_test_mse)"
   ]
  },
  {
   "cell_type": "markdown",
   "id": "22016955",
   "metadata": {},
   "source": [
    "#### RMSE"
   ]
  },
  {
   "cell_type": "code",
   "execution_count": 24,
   "id": "faaaabdc",
   "metadata": {},
   "outputs": [
    {
     "name": "stdout",
     "output_type": "stream",
     "text": [
      "RR RMSE (Train):  1334236224.382389\n",
      "RR RMSE (Test):  968445195.1690214\n"
     ]
    }
   ],
   "source": [
    "rr_train_rmse = sqrt(mean_squared_error(y_train, y_rr_train_pred))\n",
    "rr_test_rmse = sqrt(mean_squared_error(y_test, y_rr_test_pred))\n",
    "print('RR RMSE (Train): ', rr_train_rmse)\n",
    "print('RR RMSE (Test): ', rr_test_rmse)"
   ]
  },
  {
   "cell_type": "markdown",
   "id": "a98ddec1",
   "metadata": {},
   "source": [
    "#### MAE"
   ]
  },
  {
   "cell_type": "code",
   "execution_count": 25,
   "id": "340dcd50",
   "metadata": {},
   "outputs": [
    {
     "name": "stdout",
     "output_type": "stream",
     "text": [
      "RR MAE (Train):  355418953.3822769\n",
      "RR MAE (Test):  356624552.0959633\n"
     ]
    }
   ],
   "source": [
    "rr_train_mae = mean_absolute_error(y_train, y_rr_train_pred)\n",
    "rr_test_mae = mean_absolute_error(y_test, y_rr_test_pred)\n",
    "print('RR MAE (Train): ', rr_train_mae)\n",
    "print('RR MAE (Test): ', rr_test_mae)"
   ]
  },
  {
   "cell_type": "markdown",
   "id": "afde1a61",
   "metadata": {},
   "source": [
    "#### R2S"
   ]
  },
  {
   "cell_type": "code",
   "execution_count": 26,
   "id": "c1c2f632",
   "metadata": {},
   "outputs": [
    {
     "name": "stdout",
     "output_type": "stream",
     "text": [
      "RR R2S (Train):  0.04480587727724794\n",
      "RR R2S (Test):  -0.06650292405820912\n"
     ]
    }
   ],
   "source": [
    "rr_train_r2s = r2_score(y_train, y_rr_train_pred)\n",
    "rr_test_r2s = r2_score(y_test, y_rr_test_pred)\n",
    "print('RR R2S (Train): ', rr_train_r2s)\n",
    "print('RR R2S (Test): ', rr_test_r2s)"
   ]
  },
  {
   "cell_type": "markdown",
   "id": "54f1de2c",
   "metadata": {},
   "source": [
    "## Lasso Regression"
   ]
  },
  {
   "cell_type": "code",
   "execution_count": 27,
   "id": "ba994f41",
   "metadata": {},
   "outputs": [
    {
     "name": "stderr",
     "output_type": "stream",
     "text": [
      "C:\\Users\\Admin\\anaconda3\\lib\\site-packages\\sklearn\\linear_model\\_coordinate_descent.py:647: ConvergenceWarning: Objective did not converge. You might want to increase the number of iterations, check the scale of the features or consider increasing regularisation. Duality gap: 8.258e+20, tolerance: 1.730e+17\n",
      "  model = cd_fast.enet_coordinate_descent(\n"
     ]
    },
    {
     "data": {
      "text/plain": [
       "Lasso()"
      ]
     },
     "execution_count": 27,
     "metadata": {},
     "output_type": "execute_result"
    }
   ],
   "source": [
    "from sklearn.linear_model import Lasso\n",
    "\n",
    "ls = Lasso(alpha=1.0)\n",
    "ls.fit(X_train, y_train)"
   ]
  },
  {
   "cell_type": "code",
   "execution_count": 28,
   "id": "f479ab8d",
   "metadata": {},
   "outputs": [],
   "source": [
    "### Dự đoán bằng cách áp model Lasso Regression\n",
    "y_ls_train_pred = ls.predict(X_train)\n",
    "y_ls_test_pred = ls.predict(X_test)"
   ]
  },
  {
   "cell_type": "markdown",
   "id": "68b44c37",
   "metadata": {},
   "source": [
    "#### MSE"
   ]
  },
  {
   "cell_type": "code",
   "execution_count": 29,
   "id": "f2b0b7a6",
   "metadata": {},
   "outputs": [
    {
     "name": "stdout",
     "output_type": "stream",
     "text": [
      "LS MSE (Train):  1.7797106193388726e+18\n",
      "LS MSE (Test):  9.420627695498789e+17\n"
     ]
    }
   ],
   "source": [
    "ls_train_mse = mean_squared_error(y_train, y_ls_train_pred)\n",
    "ls_test_mse = mean_squared_error(y_test, y_ls_test_pred)\n",
    "print('LS MSE (Train): ', ls_train_mse)\n",
    "print('LS MSE (Test): ', ls_test_mse)"
   ]
  },
  {
   "cell_type": "markdown",
   "id": "d2f8cbad",
   "metadata": {},
   "source": [
    "#### RMSE"
   ]
  },
  {
   "cell_type": "code",
   "execution_count": 30,
   "id": "a5bbf5b3",
   "metadata": {},
   "outputs": [
    {
     "name": "stdout",
     "output_type": "stream",
     "text": [
      "LS RMSE (Train):  1334057952.0166552\n",
      "LS RMSE (Test):  970599180.6867956\n"
     ]
    }
   ],
   "source": [
    "ls_train_rmse = sqrt(mean_squared_error(y_train, y_ls_train_pred))\n",
    "ls_test_rmse = sqrt(mean_squared_error(y_test, y_ls_test_pred))\n",
    "print('LS RMSE (Train): ', ls_train_rmse)\n",
    "print('LS RMSE (Test): ', ls_test_rmse)"
   ]
  },
  {
   "cell_type": "markdown",
   "id": "bf4d5fae",
   "metadata": {},
   "source": [
    "#### MAE"
   ]
  },
  {
   "cell_type": "code",
   "execution_count": 31,
   "id": "3a4d69de",
   "metadata": {},
   "outputs": [
    {
     "name": "stdout",
     "output_type": "stream",
     "text": [
      "LS MAE (Train):  358625746.06477857\n",
      "LS MAE (Test):  361001308.1457367\n"
     ]
    }
   ],
   "source": [
    "ls_train_mae = mean_absolute_error(y_train, y_ls_train_pred)\n",
    "ls_test_mae = mean_absolute_error(y_test, y_ls_test_pred)\n",
    "print('LS MAE (Train): ', ls_train_mae)\n",
    "print('LS MAE (Test): ', ls_test_mae)"
   ]
  },
  {
   "cell_type": "markdown",
   "id": "a001e407",
   "metadata": {},
   "source": [
    "#### R2S"
   ]
  },
  {
   "cell_type": "code",
   "execution_count": 32,
   "id": "9086a461",
   "metadata": {},
   "outputs": [
    {
     "name": "stdout",
     "output_type": "stream",
     "text": [
      "LS R2S (Train):  0.04506111444842875\n",
      "LS R2S (Test):  -0.07125236487361453\n"
     ]
    }
   ],
   "source": [
    "ls_train_r2s = r2_score(y_train, y_ls_train_pred)\n",
    "ls_test_r2s = r2_score(y_test, y_ls_test_pred)\n",
    "print('LS R2S (Train): ', ls_train_r2s)\n",
    "print('LS R2S (Test): ', ls_test_r2s)"
   ]
  },
  {
   "cell_type": "markdown",
   "id": "e70cd01d",
   "metadata": {},
   "source": [
    "## Random Forest"
   ]
  },
  {
   "cell_type": "code",
   "execution_count": 51,
   "id": "6007a7e3",
   "metadata": {},
   "outputs": [],
   "source": [
    "from sklearn.ensemble import RandomForestRegressor\n",
    "rf = RandomForestRegressor(n_estimators=1000, max_depth=10).fit(X_train, y_train)"
   ]
  },
  {
   "cell_type": "code",
   "execution_count": 52,
   "id": "cb3c8f51",
   "metadata": {},
   "outputs": [],
   "source": [
    "y_rf_train_pred = rf.predict(X_train)\n",
    "y_rf_test_pred = rf.predict(X_test)"
   ]
  },
  {
   "cell_type": "markdown",
   "id": "3a435711",
   "metadata": {},
   "source": [
    "#### MSE"
   ]
  },
  {
   "cell_type": "code",
   "execution_count": 53,
   "id": "dab92938",
   "metadata": {},
   "outputs": [
    {
     "name": "stdout",
     "output_type": "stream",
     "text": [
      "RF MSE (Train):  2.4930508518978723e+17\n",
      "RF MSE (Test):  6.342095643134739e+17\n"
     ]
    }
   ],
   "source": [
    "rf_train_mse = mean_squared_error(y_train, y_rf_train_pred)\n",
    "rf_test_mse = mean_squared_error(y_test, y_rf_test_pred)\n",
    "print('RF MSE (Train): ', rf_train_mse)\n",
    "print('RF MSE (Test): ', rf_test_mse)"
   ]
  },
  {
   "cell_type": "markdown",
   "id": "720c6f34",
   "metadata": {},
   "source": [
    "#### RMSE"
   ]
  },
  {
   "cell_type": "code",
   "execution_count": 54,
   "id": "2e159583",
   "metadata": {},
   "outputs": [
    {
     "name": "stdout",
     "output_type": "stream",
     "text": [
      "RF RMSE (Train):  499304601.6108676\n",
      "RF RMSE (Test):  796372754.6278024\n"
     ]
    }
   ],
   "source": [
    "rf_train_rmse = sqrt(mean_squared_error(y_train, y_rf_train_pred))\n",
    "rf_test_rmse = sqrt(mean_squared_error(y_test, y_rf_test_pred))\n",
    "print('RF RMSE (Train): ', rf_train_rmse)\n",
    "print('RF RMSE (Test): ', rf_test_rmse)"
   ]
  },
  {
   "cell_type": "markdown",
   "id": "cc11275c",
   "metadata": {},
   "source": [
    "#### MAE"
   ]
  },
  {
   "cell_type": "code",
   "execution_count": 37,
   "id": "a18feee1",
   "metadata": {},
   "outputs": [
    {
     "name": "stdout",
     "output_type": "stream",
     "text": [
      "RF MAE (Train):  139571432.48448148\n",
      "RF MAE (Test):  241020774.0123479\n"
     ]
    }
   ],
   "source": [
    "rf_train_mae = mean_absolute_error(y_train, y_rf_train_pred)\n",
    "rf_test_mae = mean_absolute_error(y_test, y_rf_test_pred)\n",
    "print('RF MAE (Train): ', rf_train_mae)\n",
    "print('RF MAE (Test): ', rf_test_mae)"
   ]
  },
  {
   "cell_type": "markdown",
   "id": "c39bdaec",
   "metadata": {},
   "source": [
    "#### R2S"
   ]
  },
  {
   "cell_type": "code",
   "execution_count": 38,
   "id": "4a5c1437",
   "metadata": {},
   "outputs": [
    {
     "name": "stdout",
     "output_type": "stream",
     "text": [
      "RF R2S (Train):  0.8101126499713645\n",
      "RF R2S (Test):  0.259765896065426\n"
     ]
    }
   ],
   "source": [
    "rf_train_r2s = r2_score(y_train, y_rf_train_pred)\n",
    "rf_test_r2s = r2_score(y_test, y_rf_test_pred)\n",
    "print('RF R2S (Train): ', rf_train_r2s)\n",
    "print('RF R2S (Test): ', rf_test_r2s)"
   ]
  },
  {
   "cell_type": "code",
   "execution_count": 47,
   "id": "4aee8c2c",
   "metadata": {},
   "outputs": [
    {
     "data": {
      "text/plain": [
       "Text(0.5, 0, 'thực tế')"
      ]
     },
     "execution_count": 47,
     "metadata": {},
     "output_type": "execute_result"
    },
    {
     "data": {
      "image/png": "[encoded data removed]",
      "text/plain": [
       "<Figure size 500x500 with 1 Axes>"
      ]
     },
     "metadata": {},
     "output_type": "display_data"
    }
   ],
   "source": [
    "plt.figure(figsize=(5,5))\n",
    "plt.scatter(x=y_train, y=y_rf_train_pred, c=\"purple\" ,alpha=0.3)\n",
    "\n",
    "z = np.polyfit(y_train, y_rf_train_pred, 1)\n",
    "p = np.poly1d(z)\n",
    "\n",
    "plt.plot(y_train, p(y_train), 'gold')\n",
    "plt.ylabel('dự đoán')\n",
    "plt.xlabel('thực tế')"
   ]
  },
  {
   "cell_type": "markdown",
   "id": "36975117",
   "metadata": {},
   "source": [
    "## Gradient Boost"
   ]
  },
  {
   "cell_type": "code",
   "execution_count": 39,
   "id": "097fdc20",
   "metadata": {},
   "outputs": [
    {
     "data": {
      "text/plain": [
       "GradientBoostingRegressor()"
      ]
     },
     "execution_count": 39,
     "metadata": {},
     "output_type": "execute_result"
    }
   ],
   "source": [
    "from sklearn.ensemble import GradientBoostingRegressor\n",
    "\n",
    "gb = GradientBoostingRegressor()\n",
    "gb.fit(X_train, y_train)"
   ]
  },
  {
   "cell_type": "code",
   "execution_count": 40,
   "id": "eefbaf1a",
   "metadata": {},
   "outputs": [],
   "source": [
    "y_gb_train_pred = rf.predict(X_train)\n",
    "y_gb_test_pred = rf.predict(X_test)"
   ]
  },
  {
   "cell_type": "markdown",
   "id": "8d927382",
   "metadata": {},
   "source": [
    "#### MSE"
   ]
  },
  {
   "cell_type": "code",
   "execution_count": 41,
   "id": "be0c824e",
   "metadata": {},
   "outputs": [
    {
     "name": "stdout",
     "output_type": "stream",
     "text": [
      "GB MSE (Train):  3.5389126826570054e+17\n",
      "GB MSE (Test):  6.509642479530487e+17\n"
     ]
    }
   ],
   "source": [
    "gb_train_mse = mean_squared_error(y_train, y_gb_train_pred)\n",
    "gb_test_mse = mean_squared_error(y_test, y_gb_test_pred)\n",
    "print('GB MSE (Train): ', gb_train_mse)\n",
    "print('GB MSE (Test): ', gb_test_mse)"
   ]
  },
  {
   "cell_type": "markdown",
   "id": "3bde3f9c",
   "metadata": {},
   "source": [
    "#### RMSE"
   ]
  },
  {
   "cell_type": "code",
   "execution_count": 42,
   "id": "366affb2",
   "metadata": {},
   "outputs": [
    {
     "name": "stdout",
     "output_type": "stream",
     "text": [
      "GB RMSE (Train):  594887609.7765868\n",
      "GB RMSE (Test):  806823554.4114021\n"
     ]
    }
   ],
   "source": [
    "gb_train_rmse = sqrt(mean_squared_error(y_train, y_gb_train_pred))\n",
    "gb_test_rmse = sqrt(mean_squared_error(y_test, y_gb_test_pred))\n",
    "print('GB RMSE (Train): ', gb_train_rmse)\n",
    "print('GB RMSE (Test): ', gb_test_rmse)"
   ]
  },
  {
   "cell_type": "markdown",
   "id": "1e999cea",
   "metadata": {},
   "source": [
    "#### MAE"
   ]
  },
  {
   "cell_type": "code",
   "execution_count": 43,
   "id": "682eb265",
   "metadata": {},
   "outputs": [
    {
     "name": "stdout",
     "output_type": "stream",
     "text": [
      "GB MAE (Train):  139571432.48448148\n",
      "GB MAE (Test):  241020774.01234788\n"
     ]
    }
   ],
   "source": [
    "gb_train_mae = mean_absolute_error(y_train, y_gb_train_pred)\n",
    "gb_test_mae = mean_absolute_error(y_test, y_gb_test_pred)\n",
    "print('GB MAE (Train): ', gb_train_mae)\n",
    "print('GB MAE (Test): ', gb_test_mae)"
   ]
  },
  {
   "cell_type": "markdown",
   "id": "617528a2",
   "metadata": {},
   "source": [
    "#### R2S"
   ]
  },
  {
   "cell_type": "code",
   "execution_count": 44,
   "id": "7121a643",
   "metadata": {},
   "outputs": [
    {
     "name": "stdout",
     "output_type": "stream",
     "text": [
      "GB R2S (Train):  0.8101126499713645\n",
      "GB R2S (Test):  0.2597658960654263\n"
     ]
    }
   ],
   "source": [
    "gb_train_r2s = r2_score(y_train, y_gb_train_pred)\n",
    "gb_test_r2s = r2_score(y_test, y_gb_test_pred)\n",
    "print('GB R2S (Train): ', gb_train_r2s)\n",
    "print('GB R2S (Test): ', gb_test_r2s)"
   ]
  },
  {
   "cell_type": "code",
   "execution_count": 45,
   "id": "beb44ce5",
   "metadata": {},
   "outputs": [
    {
     "data": {
      "text/plain": [
       "Text(0.5, 0, 'thực tế')"
      ]
     },
     "execution_count": 45,
     "metadata": {},
     "output_type": "execute_result"
    },
    {
     "data": {
      "image/png": "[encoded data removed]",
      "text/plain": [
       "<Figure size 500x500 with 1 Axes>"
      ]
     },
     "metadata": {},
     "output_type": "display_data"
    }
   ],
   "source": [
    "plt.figure(figsize=(5,5))\n",
    "plt.scatter(x=y_train, y=y_gb_train_pred, c=\"purple\" ,alpha=0.3)\n",
    "\n",
    "z = np.polyfit(y_train, y_gb_train_pred, 1)\n",
    "p = np.poly1d(z)\n",
    "\n",
    "plt.plot(y_train, p(y_train), 'gold')\n",
    "plt.ylabel('dự đoán')\n",
    "plt.xlabel('thực tế')"
   ]
  },
  {
   "cell_type": "code",
   "execution_count": 46,
   "id": "6229f854",
   "metadata": {},
   "outputs": [
    {
     "name": "stdout",
     "output_type": "stream",
     "text": [
      "LinearRegression\n",
      ">> Train R2-score:  0.045061818317309155\n",
      ">> Test R2-score:  -0.07151238569784346\n",
      "RidgeRegression\n",
      ">> Train R2-score:  0.04480587727724794\n",
      ">> Test R2-score:  -0.06650292405820912\n",
      "LassoRegression\n",
      ">> Train R2-score:  0.04506111444842875\n",
      ">> Test R2-score:  -0.07125236487361453\n",
      "RandomForest\n",
      ">> Train R2-score:  0.8101126499713645\n",
      ">> Test R2-score:  0.259765896065426\n",
      "GradientBoost\n",
      ">> Train R2-score:  0.8101126499713645\n",
      ">> Test R2-score:  0.2597658960654263\n"
     ]
    }
   ],
   "source": [
    "print(\"LinearRegression\")\n",
    "\n",
    "print(\">> Train R2-score: \", lr_train_r2s)\n",
    "print(\">> Test R2-score: \", lr_test_r2s)\n",
    "\n",
    "print(\"RidgeRegression\")\n",
    "\n",
    "print(\">> Train R2-score: \", rr_train_r2s)\n",
    "print(\">> Test R2-score: \", rr_test_r2s)\n",
    "\n",
    "print(\"LassoRegression\")\n",
    "\n",
    "print(\">> Train R2-score: \", ls_train_r2s)\n",
    "print(\">> Test R2-score: \", ls_test_r2s)\n",
    "\n",
    "print(\"RandomForest\")\n",
    "\n",
    "print(\">> Train R2-score: \", rf_train_r2s)\n",
    "print(\">> Test R2-score: \", rf_test_r2s)\n",
    "\n",
    "print(\"GradientBoost\")\n",
    "\n",
    "print(\">> Train R2-score: \", gb_train_r2s)\n",
    "print(\">> Test R2-score: \", gb_test_r2s)\n"
   ]
  },
  {
   "cell_type": "markdown",
   "id": "f102fe6d",
   "metadata": {},
   "source": [
    "##### Nhóm em chọn đánh giá hiệu quả của các mô hình dựa trên R2-score (hệ số xác định R2) vì R2-score đo lường mức độ phù hợp giữa dữ liệu thực tế và dự đoán của mô hình. Giá trị R2-score nằm trong khoảng từ 0 đến 1, với giá trị 1 cho thấy mô hình hoàn toàn phù hợp với dữ liệu thực tế. Trong 5 models trên, cả Random Forest và Gradient Boost đều có hệ số R2-score ngang nhau. Tuy nhiên, em thiên về Gradient Boost hơn vì đây là model có khả năng thích nghi và học hỏi sai lầm tốt hơn."
   ]
  },
  {
   "cell_type": "code",
   "execution_count": null,
   "id": "6bbb3b14",
   "metadata": {},
   "outputs": [],
   "source": []
  },
  {
   "cell_type": "code",
   "execution_count": null,
   "id": "0541a91a",
   "metadata": {},
   "outputs": [],
   "source": []
  }
 ],
 "metadata": {
  "kernelspec": {
   "display_name": "Python 3 (ipykernel)",
   "language": "python",
   "name": "python3"
  },
  "language_info": {
   "codemirror_mode": {
    "name": "ipython",
    "version": 3
   },
   "file_extension": ".py",
   "mimetype": "text/x-python",
   "name": "python",
   "nbconvert_exporter": "python",
   "pygments_lexer": "ipython3",
   "version": "3.9.13"
  }
 },
 "nbformat": 4,
 "nbformat_minor": 5
}
